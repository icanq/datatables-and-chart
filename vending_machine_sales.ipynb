{
 "cells": [
  {
   "cell_type": "markdown",
   "metadata": {},
   "source": [
    "Untuk cleansing data atau manipulasi data dengan menggunakan python dan bantuan jupyter notebook bisa dengan menggunakan Python library yang namanya panda. kalau belum install panda, bisa install dulu dengan menggunakan command\n",
    "\n",
    "```\n",
    "pip instal panda\n",
    "```\n",
    "bahkan kalau belum ada pip, install dulu si python sama pipnya, bisa diliat di google aja caranya gimana soalnya panjang"
   ]
  },
  {
   "cell_type": "code",
   "execution_count": 3,
   "metadata": {},
   "outputs": [
    {
     "data": {
      "text/plain": [
       "Index(['Status', 'Device ID', 'Location', 'Machine', 'Product', 'Category',\n",
       "       'Transaction', 'TransDate', 'Type', 'RCoil', 'RPrice', 'RQty', 'MCoil',\n",
       "       'MPrice', 'MQty', 'LineTotal', 'TransTotal', 'Prcd Date'],\n",
       "      dtype='object')"
      ]
     },
     "execution_count": 3,
     "metadata": {},
     "output_type": "execute_result"
    }
   ],
   "source": [
    "# import si library panda\n",
    "import pandas as pd\n",
    "\n",
    "# baca filenya dulu baru kita tampung dalam sebuah variabel agar bisa dimanipulasi\n",
    "file_path = './vending_machine_sales.csv'\n",
    "df_vending_machine_sales = pd.read_csv(file_path)\n",
    "\n",
    "df_vending_machine_sales.columns\n",
    "\n"
   ]
  },
  {
   "cell_type": "markdown",
   "metadata": {},
   "source": [
    "1. Sales Overview Analysis\n",
    "- Total Sales\n",
    "- Total Transactions\n",
    "- Average Transactions Value\n",
    "- Total Product Sold (Berapa jumlah yang terjual)"
   ]
  },
  {
   "cell_type": "code",
   "execution_count": 4,
   "metadata": {},
   "outputs": [
    {
     "data": {
      "text/html": [
       "<div>\n",
       "<style scoped>\n",
       "    .dataframe tbody tr th:only-of-type {\n",
       "        vertical-align: middle;\n",
       "    }\n",
       "\n",
       "    .dataframe tbody tr th {\n",
       "        vertical-align: top;\n",
       "    }\n",
       "\n",
       "    .dataframe thead th {\n",
       "        text-align: right;\n",
       "    }\n",
       "</style>\n",
       "<table border=\"1\" class=\"dataframe\">\n",
       "  <thead>\n",
       "    <tr style=\"text-align: right;\">\n",
       "      <th></th>\n",
       "      <th>Status</th>\n",
       "      <th>Device ID</th>\n",
       "      <th>Location</th>\n",
       "      <th>Machine</th>\n",
       "      <th>Product</th>\n",
       "      <th>Category</th>\n",
       "      <th>Transaction</th>\n",
       "      <th>TransDate</th>\n",
       "      <th>Type</th>\n",
       "      <th>RCoil</th>\n",
       "      <th>RPrice</th>\n",
       "      <th>RQty</th>\n",
       "      <th>MCoil</th>\n",
       "      <th>MPrice</th>\n",
       "      <th>MQty</th>\n",
       "      <th>LineTotal</th>\n",
       "      <th>TransTotal</th>\n",
       "      <th>Prcd Date</th>\n",
       "    </tr>\n",
       "  </thead>\n",
       "  <tbody>\n",
       "    <tr>\n",
       "      <th>0</th>\n",
       "      <td>Processed</td>\n",
       "      <td>VJ300320611</td>\n",
       "      <td>Brunswick Sq Mall</td>\n",
       "      <td>BSQ Mall x1366 - ATT</td>\n",
       "      <td>Red Bull - Energy Drink - Sugar Free</td>\n",
       "      <td>Carbonated</td>\n",
       "      <td>14515778905</td>\n",
       "      <td>1/1/2022</td>\n",
       "      <td>Credit</td>\n",
       "      <td>148</td>\n",
       "      <td>3.5</td>\n",
       "      <td>1</td>\n",
       "      <td>148</td>\n",
       "      <td>3.5</td>\n",
       "      <td>1</td>\n",
       "      <td>3.5</td>\n",
       "      <td>3.5</td>\n",
       "      <td>1/1/2022</td>\n",
       "    </tr>\n",
       "    <tr>\n",
       "      <th>1</th>\n",
       "      <td>Processed</td>\n",
       "      <td>VJ300320611</td>\n",
       "      <td>Brunswick Sq Mall</td>\n",
       "      <td>BSQ Mall x1366 - ATT</td>\n",
       "      <td>Red Bull - Energy Drink - Sugar Free</td>\n",
       "      <td>Carbonated</td>\n",
       "      <td>14516018629</td>\n",
       "      <td>1/1/2022</td>\n",
       "      <td>Credit</td>\n",
       "      <td>148</td>\n",
       "      <td>3.5</td>\n",
       "      <td>1</td>\n",
       "      <td>148</td>\n",
       "      <td>3.5</td>\n",
       "      <td>1</td>\n",
       "      <td>3.5</td>\n",
       "      <td>5.0</td>\n",
       "      <td>1/1/2022</td>\n",
       "    </tr>\n",
       "    <tr>\n",
       "      <th>2</th>\n",
       "      <td>Processed</td>\n",
       "      <td>VJ300320611</td>\n",
       "      <td>Brunswick Sq Mall</td>\n",
       "      <td>BSQ Mall x1366 - ATT</td>\n",
       "      <td>Takis - Hot Chilli Pepper &amp; Lime</td>\n",
       "      <td>Food</td>\n",
       "      <td>14516018629</td>\n",
       "      <td>1/1/2022</td>\n",
       "      <td>Credit</td>\n",
       "      <td>123</td>\n",
       "      <td>1.5</td>\n",
       "      <td>1</td>\n",
       "      <td>123</td>\n",
       "      <td>1.5</td>\n",
       "      <td>1</td>\n",
       "      <td>1.5</td>\n",
       "      <td>5.0</td>\n",
       "      <td>1/1/2022</td>\n",
       "    </tr>\n",
       "    <tr>\n",
       "      <th>3</th>\n",
       "      <td>Processed</td>\n",
       "      <td>VJ300320611</td>\n",
       "      <td>Brunswick Sq Mall</td>\n",
       "      <td>BSQ Mall x1366 - ATT</td>\n",
       "      <td>Takis - Hot Chilli Pepper &amp; Lime</td>\n",
       "      <td>Food</td>\n",
       "      <td>14516020373</td>\n",
       "      <td>1/1/2022</td>\n",
       "      <td>Credit</td>\n",
       "      <td>123</td>\n",
       "      <td>1.5</td>\n",
       "      <td>1</td>\n",
       "      <td>123</td>\n",
       "      <td>1.5</td>\n",
       "      <td>1</td>\n",
       "      <td>1.5</td>\n",
       "      <td>1.5</td>\n",
       "      <td>1/1/2022</td>\n",
       "    </tr>\n",
       "  </tbody>\n",
       "</table>\n",
       "</div>"
      ],
      "text/plain": [
       "      Status    Device ID           Location               Machine  \\\n",
       "0  Processed  VJ300320611  Brunswick Sq Mall  BSQ Mall x1366 - ATT   \n",
       "1  Processed  VJ300320611  Brunswick Sq Mall  BSQ Mall x1366 - ATT   \n",
       "2  Processed  VJ300320611  Brunswick Sq Mall  BSQ Mall x1366 - ATT   \n",
       "3  Processed  VJ300320611  Brunswick Sq Mall  BSQ Mall x1366 - ATT   \n",
       "\n",
       "                                Product    Category  Transaction TransDate  \\\n",
       "0  Red Bull - Energy Drink - Sugar Free  Carbonated  14515778905  1/1/2022   \n",
       "1  Red Bull - Energy Drink - Sugar Free  Carbonated  14516018629  1/1/2022   \n",
       "2      Takis - Hot Chilli Pepper & Lime        Food  14516018629  1/1/2022   \n",
       "3      Takis - Hot Chilli Pepper & Lime        Food  14516020373  1/1/2022   \n",
       "\n",
       "     Type  RCoil  RPrice  RQty  MCoil  MPrice  MQty  LineTotal  TransTotal  \\\n",
       "0  Credit    148     3.5     1    148     3.5     1        3.5         3.5   \n",
       "1  Credit    148     3.5     1    148     3.5     1        3.5         5.0   \n",
       "2  Credit    123     1.5     1    123     1.5     1        1.5         5.0   \n",
       "3  Credit    123     1.5     1    123     1.5     1        1.5         1.5   \n",
       "\n",
       "  Prcd Date  \n",
       "0  1/1/2022  \n",
       "1  1/1/2022  \n",
       "2  1/1/2022  \n",
       "3  1/1/2022  "
      ]
     },
     "execution_count": 4,
     "metadata": {},
     "output_type": "execute_result"
    }
   ],
   "source": [
    "df_vending_machine_sales.head(4)"
   ]
  },
  {
   "cell_type": "code",
   "execution_count": 6,
   "metadata": {},
   "outputs": [
    {
     "data": {
      "text/plain": [
       "{'total_sales': 19094.75,\n",
       " 'total_transactions': 9116,\n",
       " 'average_transactions_value': 1.9855204325673288,\n",
       " 'total_product_sold': 9759}"
      ]
     },
     "execution_count": 6,
     "metadata": {},
     "output_type": "execute_result"
    }
   ],
   "source": [
    "total_sales = df_vending_machine_sales['LineTotal'].sum()\n",
    "total_transactions = df_vending_machine_sales['Transaction'].nunique()\n",
    "average_transactions_value = df_vending_machine_sales['LineTotal'].mean()\n",
    "total_product_sold = df_vending_machine_sales['RQty'].sum()\n",
    "\n",
    "sales_overview_analysis_data = {\n",
    "  'total_sales': total_sales,\n",
    "  'total_transactions': total_transactions,\n",
    "  'average_transactions_value': average_transactions_value,\n",
    "  'total_product_sold': total_product_sold\n",
    "}\n",
    "\n",
    "sales_overview_analysis_data"
   ]
  },
  {
   "cell_type": "markdown",
   "metadata": {},
   "source": [
    "kalau mau save data yang udah dianalisis tadi dalam bentuk json, kita bisa aja langsung bikin file jsonnya, lalu copy paste si data atau kita bisa bikin filenya pake script python."
   ]
  },
  {
   "cell_type": "code",
   "execution_count": 9,
   "metadata": {},
   "outputs": [
    {
     "name": "stdout",
     "output_type": "stream",
     "text": [
      "Data sales overview analysis telah disimpan di ./vending_machine_sales.json\n"
     ]
    }
   ],
   "source": [
    "output_file_path = './vending_machine_sales.json'\n",
    "df_vending_machine_sales.to_json(output_file_path)\n",
    "\n",
    "print(f'Data sales overview analysis telah disimpan di {output_file_path}')"
   ]
  },
  {
   "cell_type": "code",
   "execution_count": null,
   "metadata": {},
   "outputs": [],
   "source": []
  }
 ],
 "metadata": {
  "kernelspec": {
   "display_name": "Python 3",
   "language": "python",
   "name": "python3"
  },
  "language_info": {
   "codemirror_mode": {
    "name": "ipython",
    "version": 3
   },
   "file_extension": ".py",
   "mimetype": "text/x-python",
   "name": "python",
   "nbconvert_exporter": "python",
   "pygments_lexer": "ipython3",
   "version": "3.10.11"
  }
 },
 "nbformat": 4,
 "nbformat_minor": 2
}
